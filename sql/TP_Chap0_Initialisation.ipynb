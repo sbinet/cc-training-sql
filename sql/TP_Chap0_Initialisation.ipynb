{
 "cells": [
  {
   "cell_type": "markdown",
   "metadata": {},
   "source": [
    "## Initialisation"
   ]
  },
  {
   "cell_type": "markdown",
   "metadata": {},
   "source": [
    "Récupération des documents  :\n",
    "- Les 2 supports de cours\n",
    "- Les sujets des TD\n",
    "- L'archive contenant le schéma relationnel de la base de test \n",
    "\n",
    "Lancement de la VM avec Oracle Virtual Box\n",
    "- Connexion sur la VM avec le user cctraining\n",
    "\n",
    "Intégration du TD dans Jupiter sur la VM\n",
    "- Connexion au 'Tableau de Bord' du Jupyter de la VM (http://192.168.56.102:8888)\n",
    "- Dépose des fichiers 'jpynb'\n",
    "- Lancement du fichier 'TP_CHAP0_Initialisation.jpynb'\n",
    "\n",
    "Prise en main du logiciel PgAdmin \n",
    "- Création des connexions :\n",
    "  Serveur CCTraining (192.168.56.102:5432)\n",
    "      - pour l'utilisateur ds2       (ds2 / ds2 / CCtraining)\n",
    "\t  - pour l'utilisateur postgres  (ds2 / ds2 / CCtraining)\n",
    "\n",
    "- Familiarisation avec l'arborescence\n",
    "  - Combien y a t-il de bases ?\n",
    "  - Que contient la base postgres a quoi sert-elle ?\n",
    "  - Combien y a t-il de tables dans la base ds2 ?\n",
    "  - D'autres Objets sont-ils définis dans la base ?\n",
    "\n",
    "Les objets :\n",
    "  - Peut-on afficher les propriétés de l'objet ?\n",
    "  - Peut-on afficher le code SQL correspondant à la création de l'objet ?\n",
    "  - Peut-on afficher les statistiques sur l'objet ?\n",
    "  - Peut-on afficher le contenu de l'objet ? \n",
    "\n",
    "Configuration de l'éditeur de requêtes :\n",
    "  - dans le menu 'tools', item 'Query Tool'\n",
    "    dans le bouton 'execute' (éclair) tout cocher\n"
   ]
  }
 ],
 "metadata": {
  "kernelspec": {
   "display_name": "Python 3",
   "language": "python",
   "name": "python3"
  },
  "language_info": {
   "codemirror_mode": {
    "name": "ipython",
    "version": 3
   },
   "file_extension": ".py",
   "mimetype": "text/x-python",
   "name": "python",
   "nbconvert_exporter": "python",
   "pygments_lexer": "ipython3",
   "version": "3.7.0"
  }
 },
 "nbformat": 4,
 "nbformat_minor": 2
}
